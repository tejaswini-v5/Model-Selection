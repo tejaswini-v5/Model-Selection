{
 "cells": [
  {
   "cell_type": "code",
   "execution_count": null,
   "metadata": {},
   "outputs": [
    {
     "ename": "",
     "evalue": "",
     "output_type": "error",
     "traceback": [
      "\u001b[1;31mRunning cells with 'Python 3.13.0' requires the ipykernel package.\n",
      "\u001b[1;31mRun the following command to install 'ipykernel' into the Python environment. \n",
      "\u001b[1;31mCommand: '/opt/homebrew/bin/python3 -m pip install ipykernel -U --user --force-reinstall'"
     ]
    }
   ],
   "source": [
    "import numpy as np\n",
    "from sklearn.model_selection import KFold\n",
    "from sklearn.utils import resample\n",
    "\n",
    "class BaseModelEvaluator:\n",
    "    def __init__(self, model):\n",
    "    \n",
    "        self.model = model\n",
    "\n",
    "    def fit(self, X, y):\n",
    "        self.model.fit(X, y)\n",
    "\n",
    "        return self\n",
    "\n",
    "    def predict(self, X):\n",
    "        return self.model.predict(X)\n",
    "\n",
    "    def score(self, X, y):\n",
    "        return self.model.score(X, y)\n",
    "\n",
    "\n",
    "class KFoldEvaluator(BaseModelEvaluator):\n",
    "    def __init__(self, model, k=5, random_state=None):\n",
    "        super().__init__(model)\n",
    "        self.k = k\n",
    "\n",
    "        self.random_state = random_state\n",
    "\n",
    "    def evaluate(self, X, y):\n",
    "        kf = KFold(n_splits=self.k, shuffle=True, random_state=self.random_state)\n",
    "        scores = []\n",
    "\n",
    "        for train_index, test_index in kf.split(X):\n",
    "            X_train, X_test = X[train_index], X[test_index]\n",
    "\n",
    "            y_train, y_test = y[train_index], y[test_index]\n",
    "\n",
    "            self.fit(X_train, y_train)\n",
    "\n",
    "            score = self.score(X_test, y_test)\n",
    "            scores.append(score)\n",
    "\n",
    "        return np.mean(scores)\n",
    "\n",
    "\n",
    "class BootstrapEvaluator(BaseModelEvaluator):\n",
    "    def __init__(self, model, n_iterations=100, random_state=None):\n",
    "        super().__init__(model)\n",
    "        self.n_iterations = n_iterations\n",
    "        self.random_state = random_state\n",
    "\n",
    "        self.rng = np.random.default_rng(random_state)\n",
    "\n",
    "    def evaluate(self, X, y):\n",
    "        \n",
    "        scores = []\n",
    "\n",
    "        for _ in range(self.n_iterations):\n",
    "          \n",
    "            X_resampled, y_resampled = resample(X, y, replace=True, n_samples=len(X), random_state=self.rng.integers(0, 1e6))\n",
    "            \n",
    "            oob_mask = ~np.isin(np.arange(len(X)), np.unique(np.where(X == X_resampled)[0]))\n",
    "            X_oob = X[oob_mask]\n",
    "            y_oob = y[oob_mask]\n",
    "\n",
    "            if len(y_oob) > 0:  \n",
    "                self.fit(X_resampled, y_resampled)\n",
    "                score = self.score(X_oob, y_oob)\n",
    "                scores.append(score)\n",
    "\n",
    "        return np.mean(scores)\n"
   ]
  },
  {
   "cell_type": "code",
   "execution_count": null,
   "metadata": {},
   "outputs": [
    {
     "name": "stdout",
     "output_type": "stream",
     "text": [
      "K-Fold Cross-Validation Score: 0.8631\n",
      "Bootstrapping Score: nan\n"
     ]
    },
    {
     "name": "stderr",
     "output_type": "stream",
     "text": [
      "d:\\Users\\admin\\miniconda3\\envs\\pytorch\\lib\\site-packages\\numpy\\core\\fromnumeric.py:3464: RuntimeWarning: Mean of empty slice.\n",
      "  return _methods._mean(a, axis=axis, dtype=dtype,\n",
      "d:\\Users\\admin\\miniconda3\\envs\\pytorch\\lib\\site-packages\\numpy\\core\\_methods.py:192: RuntimeWarning: invalid value encountered in scalar divide\n",
      "  ret = ret.dtype.type(ret / rcount)\n"
     ]
    }
   ],
   "source": [
    "from sklearn.datasets import load_iris, load_digits\n",
    "from sklearn.tree import DecisionTreeClassifier\n",
    "\n",
    "\n",
    "data = load_iris()\n",
    "X = data.data\n",
    "y = data.target\n",
    "\n",
    "\n",
    "base_model = DecisionTreeClassifier()\n",
    "\n",
    "\n",
    "kfold_evaluator = KFoldEvaluator(model=base_model, k=5, random_state=42)\n",
    "k_fold_score = kfold_evaluator.evaluate(X, y)\n",
    "print(f\"K-Fold Cross-Validation Score: {k_fold_score:.4f}\")\n",
    "\n",
    "bootstrap_evaluator = BootstrapEvaluator(model=base_model, n_iterations=100, random_state=42)\n",
    "bootstrap_score = bootstrap_evaluator.evaluate(X, y)\n",
    "print(f\"Bootstrapping Score: {bootstrap_score:.4f}\")"
   ]
  }
 ],
 "metadata": {
  "kernelspec": {
   "display_name": "Python 3",
   "language": "python",
   "name": "python3"
  },
  "language_info": {
   "codemirror_mode": {
    "name": "ipython",
    "version": 3
   },
   "file_extension": ".py",
   "mimetype": "text/x-python",
   "name": "python",
   "nbconvert_exporter": "python",
   "pygments_lexer": "ipython3",
   "version": "3.13.0"
  }
 },
 "nbformat": 4,
 "nbformat_minor": 2
}
